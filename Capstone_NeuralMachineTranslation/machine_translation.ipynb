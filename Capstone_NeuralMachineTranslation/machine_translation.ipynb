{
 "cells": [
  {
   "cell_type": "markdown",
   "metadata": {
    "collapsed": true
   },
   "source": [
    "# Artificial Intelligence Nanodegree\n",
    "## Machine Translation Project\n",
    "In this notebook, sections that end with **'(IMPLEMENTATION)'** in the header indicate that the following blocks of code will require additional functionality which you must provide. Please be sure to read the instructions carefully!\n",
    "\n",
    "## Introduction\n",
    "In this notebook, you will build a deep neural network that functions as part of an end-to-end machine translation pipeline. Your completed pipeline will accept English text as input and return the French translation.\n",
    "\n",
    "- **Preprocess** - You'll convert text to sequence of integers.\n",
    "- **Models** Create models which accepts a sequence of integers as input and returns a probability distribution over possible translations. After learning about the basic types of neural networks that are often used for machine translation, you will engage in your own investigations, to design your own model!\n",
    "- **Prediction** Run the model on English text.\n",
    "\n",
    "## Dataset\n",
    "We begin by investigating the dataset that will be used to train and evaluate your pipeline.  The most common datasets used for machine translation are from [WMT](http://www.statmt.org/).  However, that will take a long time to train a neural network on.  We'll be using a dataset we created for this project that contains a small vocabulary.  You'll be able to train your model in a reasonable time with this dataset.\n",
    "### Load Data\n",
    "The data is located in `data/small_vocab_en` and `data/small_vocab_fr`. The `small_vocab_en` file contains English sentences with their French translations in the `small_vocab_fr` file. Load the English and French data from these files from running the cell below."
   ]
  },
  {
   "cell_type": "code",
   "execution_count": 2,
   "metadata": {},
   "outputs": [
    {
     "name": "stdout",
     "output_type": "stream",
     "text": [
      "Dataset Loaded\n"
     ]
    }
   ],
   "source": [
    "import helper\n",
    "\n",
    "\n",
    "# Load English data\n",
    "english_sentences = helper.load_data('data/small_vocab_en')\n",
    "# Load French data\n",
    "french_sentences = helper.load_data('data/small_vocab_fr')\n",
    "\n",
    "print('Dataset Loaded')"
   ]
  },
  {
   "cell_type": "markdown",
   "metadata": {},
   "source": [
    "### Files\n",
    "Each line in `small_vocab_en` contains an English sentence with the respective translation in each line of `small_vocab_fr`.  View the first two lines from each file."
   ]
  },
  {
   "cell_type": "code",
   "execution_count": 3,
   "metadata": {},
   "outputs": [
    {
     "name": "stdout",
     "output_type": "stream",
     "text": [
      "small_vocab_en Line 1:  new jersey is sometimes quiet during autumn , and it is snowy in april .\n",
      "small_vocab_fr Line 1:  new jersey est parfois calme pendant l' automne , et il est neigeux en avril .\n",
      "small_vocab_en Line 2:  the united states is usually chilly during july , and it is usually freezing in november .\n",
      "small_vocab_fr Line 2:  les Ã©tats-unis est gÃ©nÃ©ralement froid en juillet , et il gÃ¨le habituellement en novembre .\n"
     ]
    }
   ],
   "source": [
    "for sample_i in range(2):\n",
    "    print('small_vocab_en Line {}:  {}'.format(sample_i + 1, english_sentences[sample_i]))\n",
    "    print('small_vocab_fr Line {}:  {}'.format(sample_i + 1, french_sentences[sample_i]))"
   ]
  },
  {
   "cell_type": "markdown",
   "metadata": {},
   "source": [
    "From looking at the sentences, you can see they have been preprocessed already.  The puncuations have been delimited using spaces. All the text have been converted to lowercase.  This should save you some time, but the text requires more preprocessing.\n",
    "### Vocabulary\n",
    "The complexity of the problem is determined by the complexity of the vocabulary.  A more complex vocabulary is a more complex problem.  Let's look at the complexity of the dataset we'll be working with."
   ]
  },
  {
   "cell_type": "code",
   "execution_count": 4,
   "metadata": {},
   "outputs": [
    {
     "name": "stdout",
     "output_type": "stream",
     "text": [
      "1823250 English words.\n",
      "227 unique English words.\n",
      "10 Most common words in the English dataset:\n",
      "\"is\" \",\" \".\" \"in\" \"it\" \"during\" \"the\" \"but\" \"and\" \"sometimes\"\n",
      "\n",
      "1961295 French words.\n",
      "355 unique French words.\n",
      "10 Most common words in the French dataset:\n",
      "\"est\" \".\" \",\" \"en\" \"il\" \"les\" \"mais\" \"et\" \"la\" \"parfois\"\n"
     ]
    }
   ],
   "source": [
    "import collections\n",
    "\n",
    "english_words_counter = collections.Counter([word for sentence in english_sentences for word in sentence.split()])\n",
    "french_words_counter = collections.Counter([word for sentence in french_sentences for word in sentence.split()])\n",
    "\n",
    "print('{} English words.'.format(len([word for sentence in english_sentences for word in sentence.split()])))\n",
    "print('{} unique English words.'.format(len(english_words_counter)))\n",
    "print('10 Most common words in the English dataset:')\n",
    "print('\"' + '\" \"'.join(list(zip(*english_words_counter.most_common(10)))[0]) + '\"')\n",
    "print()\n",
    "print('{} French words.'.format(len([word for sentence in french_sentences for word in sentence.split()])))\n",
    "print('{} unique French words.'.format(len(french_words_counter)))\n",
    "print('10 Most common words in the French dataset:')\n",
    "print('\"' + '\" \"'.join(list(zip(*french_words_counter.most_common(10)))[0]) + '\"')"
   ]
  },
  {
   "cell_type": "markdown",
   "metadata": {},
   "source": [
    "For comparison, _Alice's Adventures in Wonderland_ contains 2,766 unique words of a total of 15,500 words.\n",
    "## Preprocess\n",
    "For this project, you won't use text data as input to your model. Instead, you'll convert the text into sequences of integers using the following preprocess methods:\n",
    "1. Tokenize the words into ids\n",
    "2. Add padding to make all the sequences the same length.\n",
    "\n",
    "Time to start preprocessing the data...\n",
    "### Tokenize (IMPLEMENTATION)\n",
    "For a neural network to predict on text data, it first has to be turned into data it can understand. Text data like \"dog\" is a sequence of ASCII character encodings.  Since a neural network is a series of multiplication and addition operations, the input data needs to be number(s).\n",
    "\n",
    "We can turn each character into a number or each word into a number.  These are called character and word ids, respectively.  Character ids are used for character level models that generate text predictions for each character.  A word level model uses word ids that generate text predictions for each word.  Word level models tend to learn better, since they are lower in complexity, so we'll use those.\n",
    "\n",
    "Turn each sentence into a sequence of words ids using Keras's [`Tokenizer`](https://keras.io/preprocessing/text/#tokenizer) function. Use this function to tokenize `english_sentences` and `french_sentences` in the cell below.\n",
    "\n",
    "Running the cell will run `tokenize` on sample data and show output for debugging."
   ]
  },
  {
   "cell_type": "code",
   "execution_count": 5,
   "metadata": {},
   "outputs": [
    {
     "name": "stderr",
     "output_type": "stream",
     "text": [
      "Using TensorFlow backend.\n"
     ]
    },
    {
     "name": "stdout",
     "output_type": "stream",
     "text": [
      "{'the': 1, 'prize': 17, 'won': 16, 'brown': 4, 'lexicography': 15, 'by': 10, 'short': 20, 'fox': 5, 'sentence': 21, 'jumps': 6, 'over': 7, 'my': 12, 'is': 19, 'dog': 9, 'jove': 11, 'this': 18, 'a': 3, 'quick': 2, 'lazy': 8, 'study': 13, 'of': 14}\n",
      "\n",
      "Sequence 1 in x\n",
      "  Input:  The quick brown fox jumps over the lazy dog .\n",
      "  Output: [1, 2, 4, 5, 6, 7, 1, 8, 9]\n",
      "Sequence 2 in x\n",
      "  Input:  By Jove , my quick study of lexicography won a prize .\n",
      "  Output: [10, 11, 12, 2, 13, 14, 15, 16, 3, 17]\n",
      "Sequence 3 in x\n",
      "  Input:  This is a short sentence .\n",
      "  Output: [18, 19, 3, 20, 21]\n"
     ]
    }
   ],
   "source": [
    "import keras\n",
    "import project_tests as tests\n",
    "\n",
    "from keras.preprocessing.text import Tokenizer\n",
    "\n",
    "def tokenize(x):\n",
    "    \"\"\"\n",
    "    Tokenize x\n",
    "    :param x: List of sentences/strings to be tokenized\n",
    "    :return: Tuple of (tokenized x data, tokenizer used to tokenize x)\n",
    "    \"\"\"\n",
    "    # TODO: Implement\n",
    "    tokenizer = Tokenizer()\n",
    "    tokenizer.fit_on_texts(x)\n",
    "    seq = tokenizer.texts_to_sequences(x)\n",
    "      \n",
    "    return seq, tokenizer\n",
    "\n",
    "tests.test_tokenize(tokenize)\n",
    "\n",
    "# Tokenize Example output\n",
    "text_sentences = [\n",
    "    'The quick brown fox jumps over the lazy dog .',\n",
    "    'By Jove , my quick study of lexicography won a prize .',\n",
    "    'This is a short sentence .']\n",
    "text_tokenized, text_tokenizer = tokenize(text_sentences)\n",
    "print(text_tokenizer.word_index)\n",
    "print()\n",
    "for sample_i, (sent, token_sent) in enumerate(zip(text_sentences, text_tokenized)):\n",
    "    print('Sequence {} in x'.format(sample_i + 1))\n",
    "    print('  Input:  {}'.format(sent))\n",
    "    print('  Output: {}'.format(token_sent))"
   ]
  },
  {
   "cell_type": "markdown",
   "metadata": {},
   "source": [
    "### Padding (IMPLEMENTATION)\n",
    "When batching the sequence of word ids together, each sequence needs to be the same length.  Since sentences are dynamic in length, we can add padding to the end of the sequences to make them the same length.\n",
    "\n",
    "Make sure all the English sequences have the same length and all the French sequences have the same length by adding padding to the **end** of each sequence using Keras's [`pad_sequences`](https://keras.io/preprocessing/sequence/#pad_sequences) function."
   ]
  },
  {
   "cell_type": "code",
   "execution_count": 6,
   "metadata": {},
   "outputs": [
    {
     "name": "stdout",
     "output_type": "stream",
     "text": [
      "[[1, 2, 4, 5, 6, 7, 1, 8, 9], [10, 11, 12, 2, 13, 14, 15, 16, 3, 17], [18, 19, 3, 20, 21]]\n",
      "Sequence 1 in x\n",
      "  Input:  [1 2 4 5 6 7 1 8 9]\n",
      "  Output: [1 2 4 5 6 7 1 8 9 0]\n",
      "Sequence 2 in x\n",
      "  Input:  [10 11 12  2 13 14 15 16  3 17]\n",
      "  Output: [10 11 12  2 13 14 15 16  3 17]\n",
      "Sequence 3 in x\n",
      "  Input:  [18 19  3 20 21]\n",
      "  Output: [18 19  3 20 21  0  0  0  0  0]\n"
     ]
    }
   ],
   "source": [
    "import numpy as np\n",
    "from keras.preprocessing.sequence import pad_sequences\n",
    "\n",
    "\n",
    "def pad(x, length=None):\n",
    "    \"\"\"\n",
    "    Pad x\n",
    "    :param x: List of sequences.\n",
    "    :param length: Length to pad the sequence to.  If None, use length of longest sequence in x.\n",
    "    :return: Padded numpy array of sequences\n",
    "    \"\"\"\n",
    "    # TODO: Implement\n",
    "    data = pad_sequences(x, maxlen=length, padding='post')\n",
    "    return data\n",
    "\n",
    "print(text_tokenized)\n",
    "tests.test_pad(pad)\n",
    "\n",
    "# Pad Tokenized output\n",
    "test_pad = pad(text_tokenized)\n",
    "for sample_i, (token_sent, pad_sent) in enumerate(zip(text_tokenized, test_pad)):\n",
    "    print('Sequence {} in x'.format(sample_i + 1))\n",
    "    print('  Input:  {}'.format(np.array(token_sent)))\n",
    "    print('  Output: {}'.format(pad_sent))"
   ]
  },
  {
   "cell_type": "markdown",
   "metadata": {},
   "source": [
    "### Preprocess Pipeline\n",
    "Your focus for this project is to build neural network architecture, so we won't ask you to create a preprocess pipeline.  Instead, we've provided you with the implementation of the `preprocess` function."
   ]
  },
  {
   "cell_type": "code",
   "execution_count": 7,
   "metadata": {},
   "outputs": [
    {
     "name": "stdout",
     "output_type": "stream",
     "text": [
      "Data Preprocessed\n"
     ]
    }
   ],
   "source": [
    "def preprocess(x, y):\n",
    "    \"\"\"\n",
    "    Preprocess x and y\n",
    "    :param x: Feature List of sentences\n",
    "    :param y: Label List of sentences\n",
    "    :return: Tuple of (Preprocessed x, Preprocessed y, x tokenizer, y tokenizer)\n",
    "    \"\"\"\n",
    "    preprocess_x, x_tk = tokenize(x)\n",
    "    preprocess_y, y_tk = tokenize(y)\n",
    "\n",
    "    preprocess_x = pad(preprocess_x)\n",
    "    preprocess_y = pad(preprocess_y)\n",
    "\n",
    "    # Keras's sparse_categorical_crossentropy function requires the labels to be in 3 dimensions\n",
    "    preprocess_y = preprocess_y.reshape(*preprocess_y.shape, 1)\n",
    "\n",
    "    return preprocess_x, preprocess_y, x_tk, y_tk\n",
    "\n",
    "preproc_english_sentences, preproc_french_sentences, english_tokenizer, french_tokenizer =\\\n",
    "    preprocess(english_sentences, french_sentences)\n",
    "\n",
    "print('Data Preprocessed')"
   ]
  },
  {
   "cell_type": "code",
   "execution_count": 8,
   "metadata": {},
   "outputs": [
    {
     "name": "stdout",
     "output_type": "stream",
     "text": [
      "['new jersey is sometimes quiet during autumn , and it is snowy in april .'] [\"new jersey est parfois calme pendant l' automne , et il est neigeux en avril .\"]\n",
      "[[17 23  1  8 67  4 39  7  3  1 55  2 44  0  0]] (137861, 15)\n",
      "[[[ 35]\n",
      "  [ 34]\n",
      "  [  1]\n",
      "  [  8]\n",
      "  [ 67]\n",
      "  [ 37]\n",
      "  [ 11]\n",
      "  [ 24]\n",
      "  [  6]\n",
      "  [  3]\n",
      "  [  1]\n",
      "  [112]\n",
      "  [  2]\n",
      "  [ 50]\n",
      "  [  0]\n",
      "  [  0]\n",
      "  [  0]\n",
      "  [  0]\n",
      "  [  0]\n",
      "  [  0]\n",
      "  [  0]]] (137861, 21, 1)\n"
     ]
    }
   ],
   "source": [
    "print(english_sentences[:1], french_sentences[:1])\n",
    "print(preproc_english_sentences[:1], preproc_english_sentences.shape)\n",
    "print(preproc_french_sentences[:1], preproc_french_sentences.shape)"
   ]
  },
  {
   "cell_type": "markdown",
   "metadata": {},
   "source": [
    "## Models\n",
    "In this section, you will experiment with various neural network architectures.\n",
    "You will begin by training four relatively simple architectures.\n",
    "- Model 1 is a simple RNN\n",
    "- Model 2 is a RNN with Embedding\n",
    "- Model 3 is a Bidirectional RNN\n",
    "- Model 4 is an optional Encoder-Decoder RNN\n",
    "\n",
    "After experimenting with the four simple architectures, you will construct a deeper architecture that is designed to outperform all four models.\n",
    "### Ids Back to Text\n",
    "The neural network will be translating the input to words ids, which isn't the final form we want.  We want the French translation.  The function `logits_to_text` will bridge the gab between the logits from the neural network to the French translation.  You'll be using this function to better understand the output of the neural network."
   ]
  },
  {
   "cell_type": "code",
   "execution_count": 9,
   "metadata": {},
   "outputs": [
    {
     "name": "stdout",
     "output_type": "stream",
     "text": [
      "`logits_to_text` function loaded.\n"
     ]
    }
   ],
   "source": [
    "def logits_to_text(logits, tokenizer):\n",
    "    \"\"\"\n",
    "    Turn logits from a neural network into text using the tokenizer\n",
    "    :param logits: Logits from a neural network\n",
    "    :param tokenizer: Keras Tokenizer fit on the labels\n",
    "    :return: String that represents the text of the logits\n",
    "    \"\"\"\n",
    "    index_to_words = {id: word for word, id in tokenizer.word_index.items()}\n",
    "    index_to_words[0] = '<PAD>'\n",
    "\n",
    "    return ' '.join([index_to_words[prediction] for prediction in np.argmax(logits, 1)])\n",
    "\n",
    "print('`logits_to_text` function loaded.')"
   ]
  },
  {
   "cell_type": "markdown",
   "metadata": {},
   "source": [
    "### Model 1: RNN (IMPLEMENTATION)\n",
    "![RNN](images/rnn.png)\n",
    "A basic RNN model is a good baseline for sequence data.  In this model, you'll build a RNN that translates English to French."
   ]
  },
  {
   "cell_type": "code",
   "execution_count": 57,
   "metadata": {},
   "outputs": [
    {
     "name": "stdout",
     "output_type": "stream",
     "text": [
      "_________________________________________________________________\n",
      "Layer (type)                 Output Shape              Param #   \n",
      "=================================================================\n",
      "simple_rnn_29 (SimpleRNN)    (None, 21, 100)           10200     \n",
      "_________________________________________________________________\n",
      "time_distributed_18 (TimeDis (None, 21, 344)           34744     \n",
      "_________________________________________________________________\n",
      "activation_22 (Activation)   (None, 21, 344)           0         \n",
      "=================================================================\n",
      "Total params: 44,944\n",
      "Trainable params: 44,944\n",
      "Non-trainable params: 0\n",
      "_________________________________________________________________\n"
     ]
    }
   ],
   "source": [
    "from keras.layers import GRU, Input, Dense, TimeDistributed, SimpleRNN\n",
    "from keras.models import Model, Sequential\n",
    "from keras.layers import Activation\n",
    "from keras.optimizers import Adam\n",
    "from keras.losses import sparse_categorical_crossentropy\n",
    "\n",
    "\n",
    "def simple_model(input_shape, output_sequence_length, english_vocab_size, french_vocab_size):\n",
    "    \"\"\"\n",
    "    Build and train a basic RNN on x and y\n",
    "    :param input_shape: Tuple of input shape\n",
    "    :param output_sequence_length: Length of output sequence\n",
    "    :param english_vocab_size: Number of unique English words in the dataset\n",
    "    :param french_vocab_size: Number of unique French words in the dataset\n",
    "    :return: Keras model built, but not trained\n",
    "    \"\"\"\n",
    "    model = Sequential()\n",
    "\n",
    "    # return_sequence True: we want our output to be the full length of output sequence\n",
    "\n",
    "    model.add(SimpleRNN(100, input_shape=input_shape[1:], return_sequences=True))\n",
    "    # dense layer PER time step (word in sequence)\n",
    "    model.add(TimeDistributed(Dense(french_vocab_size)))\n",
    "    model.add(Activation(\"softmax\"))\n",
    "    \n",
    "    model.summary()\n",
    "     \n",
    "    learning_rate = 1e-3\n",
    "    model.compile(loss=sparse_categorical_crossentropy,\n",
    "                  optimizer=Adam(learning_rate),\n",
    "                  metrics=['accuracy'])\n",
    "    return model\n",
    "\n",
    "tests.test_simple_model(simple_model)"
   ]
  },
  {
   "cell_type": "code",
   "execution_count": 58,
   "metadata": {},
   "outputs": [
    {
     "name": "stdout",
     "output_type": "stream",
     "text": [
      "(137861, 21, 1)\n",
      "(137861, 21, 1)\n"
     ]
    }
   ],
   "source": [
    "# Reshaping the input to work with a basic RNN\n",
    "tmp_x = pad(preproc_english_sentences, preproc_french_sentences.shape[1])\n",
    "tmp_x = tmp_x.reshape((-1, preproc_french_sentences.shape[1], 1))\n",
    "\n",
    "print(tmp_x.shape)\n",
    "print(preproc_french_sentences.shape)"
   ]
  },
  {
   "cell_type": "code",
   "execution_count": 59,
   "metadata": {},
   "outputs": [
    {
     "name": "stdout",
     "output_type": "stream",
     "text": [
      "_________________________________________________________________\n",
      "Layer (type)                 Output Shape              Param #   \n",
      "=================================================================\n",
      "simple_rnn_30 (SimpleRNN)    (None, 21, 100)           10200     \n",
      "_________________________________________________________________\n",
      "time_distributed_19 (TimeDis (None, 21, 345)           34845     \n",
      "_________________________________________________________________\n",
      "activation_23 (Activation)   (None, 21, 345)           0         \n",
      "=================================================================\n",
      "Total params: 45,045\n",
      "Trainable params: 45,045\n",
      "Non-trainable params: 0\n",
      "_________________________________________________________________\n",
      "Train on 110288 samples, validate on 27573 samples\n",
      "Epoch 1/10\n",
      "110288/110288 [==============================] - 3s - loss: 3.0475 - acc: 0.4239 - val_loss: nan - val_acc: 0.4949\n",
      "Epoch 2/10\n",
      "110288/110288 [==============================] - 2s - loss: 2.1854 - acc: 0.5235 - val_loss: nan - val_acc: 0.5505\n",
      "Epoch 3/10\n",
      "110288/110288 [==============================] - 2s - loss: 1.9011 - acc: 0.5608 - val_loss: nan - val_acc: 0.5691\n",
      "Epoch 4/10\n",
      "110288/110288 [==============================] - 2s - loss: 1.7250 - acc: 0.5765 - val_loss: nan - val_acc: 0.5834\n",
      "Epoch 5/10\n",
      "110288/110288 [==============================] - 2s - loss: 1.6184 - acc: 0.5893 - val_loss: nan - val_acc: 0.5963\n",
      "Epoch 6/10\n",
      "110288/110288 [==============================] - 2s - loss: 1.5498 - acc: 0.5996 - val_loss: nan - val_acc: 0.6049\n",
      "Epoch 7/10\n",
      "110288/110288 [==============================] - 2s - loss: 1.4960 - acc: 0.6061 - val_loss: nan - val_acc: 0.6093\n",
      "Epoch 8/10\n",
      "110288/110288 [==============================] - 2s - loss: 1.4473 - acc: 0.6139 - val_loss: nan - val_acc: 0.6196\n",
      "Epoch 9/10\n",
      "110288/110288 [==============================] - 2s - loss: 1.3963 - acc: 0.6247 - val_loss: nan - val_acc: 0.6262\n",
      "Epoch 10/10\n",
      "110288/110288 [==============================] - 2s - loss: 1.3493 - acc: 0.6336 - val_loss: nan - val_acc: 0.6399\n",
      "new jersey est parfois chaud en l' et il est est en en <PAD> <PAD> <PAD> <PAD> <PAD> <PAD> <PAD> <PAD>\n"
     ]
    }
   ],
   "source": [
    "# Train the neural network\n",
    "simple_rnn_model = simple_model(\n",
    "    tmp_x.shape,\n",
    "    preproc_french_sentences.shape[1],\n",
    "    len(english_tokenizer.word_index),\n",
    "    len(french_tokenizer.word_index))\n",
    "\n",
    "simple_rnn_model.fit(tmp_x, preproc_french_sentences, batch_size=1024, epochs=10, validation_split=0.2)\n",
    "\n",
    "# Print prediction(s)\n",
    "print(logits_to_text(simple_rnn_model.predict(tmp_x[:1])[0], french_tokenizer))"
   ]
  },
  {
   "cell_type": "markdown",
   "metadata": {},
   "source": [
    "### Model 2: Embedding (IMPLEMENTATION)\n",
    "![RNN](images/embedding.png)\n",
    "You've turned the words into ids, but there's a better representation of a word.  This is called word embeddings.  An embedding is a vector representation of the word that is close to similar words in n-dimensional space, where the n represents the size of the embedding vectors.\n",
    "\n",
    "In this model, you'll create a RNN model using embedding."
   ]
  },
  {
   "cell_type": "code",
   "execution_count": 60,
   "metadata": {},
   "outputs": [
    {
     "name": "stdout",
     "output_type": "stream",
     "text": [
      "_________________________________________________________________\n",
      "Layer (type)                 Output Shape              Param #   \n",
      "=================================================================\n",
      "embedding_16 (Embedding)     (None, 21, 500)           99500     \n",
      "_________________________________________________________________\n",
      "simple_rnn_31 (SimpleRNN)    (None, 21, 100)           60100     \n",
      "_________________________________________________________________\n",
      "time_distributed_20 (TimeDis (None, 21, 344)           34744     \n",
      "_________________________________________________________________\n",
      "activation_24 (Activation)   (None, 21, 344)           0         \n",
      "=================================================================\n",
      "Total params: 194,344\n",
      "Trainable params: 194,344\n",
      "Non-trainable params: 0\n",
      "_________________________________________________________________\n"
     ]
    }
   ],
   "source": [
    "from keras.layers.embeddings import Embedding\n",
    "from keras.layers.core import Reshape\n",
    "\n",
    "\n",
    "def embed_model(input_shape, output_sequence_length, english_vocab_size, french_vocab_size):\n",
    "    \"\"\"\n",
    "    Build and train a RNN model using word embedding on x and y\n",
    "    :param input_shape: Tuple of input shape\n",
    "    :param output_sequence_length: Length of output sequence\n",
    "    :param english_vocab_size: Number of unique English words in the dataset\n",
    "    :param french_vocab_size: Number of unique French words in the dataset\n",
    "    :return: Keras model built, but not trained\n",
    "    \"\"\"\n",
    "    # Embedding input - 2D tensor with shape: (batch_size, sequence_length)\n",
    "    # Embedding output - 3D tensor with shape: (batch_size, sequence_length, output_dim).\n",
    "   \n",
    "    model = Sequential()\n",
    "    model.add(Embedding(input_dim=english_vocab_size, output_dim=500, input_length=output_sequence_length))\n",
    "    model.add(SimpleRNN(100, return_sequences=True))\n",
    "    model.add(TimeDistributed(Dense(french_vocab_size)))\n",
    "    model.add(Activation(\"softmax\"))\n",
    "    \n",
    "    model.summary()\n",
    "     \n",
    "    learning_rate = 1e-3\n",
    "    model.compile(loss=sparse_categorical_crossentropy,\n",
    "                  optimizer=Adam(learning_rate),\n",
    "                  metrics=['accuracy'])\n",
    "    return model\n",
    "\n",
    "tests.test_embed_model(embed_model)"
   ]
  },
  {
   "cell_type": "code",
   "execution_count": 61,
   "metadata": {},
   "outputs": [
    {
     "name": "stdout",
     "output_type": "stream",
     "text": [
      "(137861, 21)\n",
      "(137861, 21, 1)\n"
     ]
    }
   ],
   "source": [
    "# TODO: Reshape the input\n",
    "tmp_x = pad(preproc_english_sentences, preproc_french_sentences.shape[1])\n",
    "tmp_x = tmp_x.reshape((-1, preproc_french_sentences.shape[-2]))\n",
    "\n",
    "print(tmp_x.shape)\n",
    "print(preproc_french_sentences.shape)"
   ]
  },
  {
   "cell_type": "code",
   "execution_count": 62,
   "metadata": {},
   "outputs": [
    {
     "name": "stdout",
     "output_type": "stream",
     "text": [
      "_________________________________________________________________\n",
      "Layer (type)                 Output Shape              Param #   \n",
      "=================================================================\n",
      "embedding_17 (Embedding)     (None, 21, 500)           99500     \n",
      "_________________________________________________________________\n",
      "simple_rnn_32 (SimpleRNN)    (None, 21, 100)           60100     \n",
      "_________________________________________________________________\n",
      "time_distributed_21 (TimeDis (None, 21, 345)           34845     \n",
      "_________________________________________________________________\n",
      "activation_25 (Activation)   (None, 21, 345)           0         \n",
      "=================================================================\n",
      "Total params: 194,445\n",
      "Trainable params: 194,445\n",
      "Non-trainable params: 0\n",
      "_________________________________________________________________\n",
      "Train on 110288 samples, validate on 27573 samples\n",
      "Epoch 1/10\n",
      "110288/110288 [==============================] - 3s - loss: 2.7835 - acc: 0.5127 - val_loss: nan - val_acc: 0.6053\n",
      "Epoch 2/10\n",
      "110288/110288 [==============================] - 2s - loss: 1.3882 - acc: 0.6904 - val_loss: nan - val_acc: 0.7543\n",
      "Epoch 3/10\n",
      "110288/110288 [==============================] - 2s - loss: 0.8943 - acc: 0.7802 - val_loss: nan - val_acc: 0.8023\n",
      "Epoch 4/10\n",
      "110288/110288 [==============================] - 2s - loss: 0.6960 - acc: 0.8172 - val_loss: nan - val_acc: 0.8331\n",
      "Epoch 5/10\n",
      "110288/110288 [==============================] - 2s - loss: 0.5762 - acc: 0.8436 - val_loss: nan - val_acc: 0.8541\n",
      "Epoch 6/10\n",
      "110288/110288 [==============================] - 2s - loss: 0.4968 - acc: 0.8622 - val_loss: nan - val_acc: 0.8689\n",
      "Epoch 7/10\n",
      "110288/110288 [==============================] - 2s - loss: 0.4431 - acc: 0.8746 - val_loss: nan - val_acc: 0.8801\n",
      "Epoch 8/10\n",
      "110288/110288 [==============================] - 2s - loss: 0.4033 - acc: 0.8840 - val_loss: nan - val_acc: 0.8871\n",
      "Epoch 9/10\n",
      "110288/110288 [==============================] - 2s - loss: 0.3750 - acc: 0.8908 - val_loss: nan - val_acc: 0.8935\n",
      "Epoch 10/10\n",
      "110288/110288 [==============================] - 2s - loss: 0.3506 - acc: 0.8971 - val_loss: nan - val_acc: 0.8988\n",
      "new jersey est parfois calme en cours et il il de neigeux en en <PAD> <PAD> <PAD> <PAD> <PAD> <PAD> <PAD>\n"
     ]
    }
   ],
   "source": [
    "# Train the neural network\n",
    "embed_model = embed_model(\n",
    "    tmp_x.shape,\n",
    "    preproc_french_sentences.shape[1],\n",
    "    len(english_tokenizer.word_index),\n",
    "    len(french_tokenizer.word_index))\n",
    "\n",
    "embed_model.fit(tmp_x, preproc_french_sentences, batch_size=1024, epochs=10, validation_split=0.2)\n",
    "\n",
    "# Print prediction(s)\n",
    "print(logits_to_text(embed_model.predict(tmp_x[:1])[0], french_tokenizer))"
   ]
  },
  {
   "cell_type": "markdown",
   "metadata": {},
   "source": [
    "### Model 3: Bidirectional RNNs (IMPLEMENTATION)\n",
    "![RNN](images/bidirectional.png)\n",
    "One restriction of a RNN is that it can't see the future input, only the past.  This is where bidirectional recurrent neural networks come in.  They are able to see the future data."
   ]
  },
  {
   "cell_type": "code",
   "execution_count": 63,
   "metadata": {},
   "outputs": [
    {
     "name": "stdout",
     "output_type": "stream",
     "text": [
      "_________________________________________________________________\n",
      "Layer (type)                 Output Shape              Param #   \n",
      "=================================================================\n",
      "bidirectional_28 (Bidirectio (None, 21, 200)           20400     \n",
      "_________________________________________________________________\n",
      "time_distributed_22 (TimeDis (None, 21, 344)           69144     \n",
      "_________________________________________________________________\n",
      "activation_26 (Activation)   (None, 21, 344)           0         \n",
      "=================================================================\n",
      "Total params: 89,544\n",
      "Trainable params: 89,544\n",
      "Non-trainable params: 0\n",
      "_________________________________________________________________\n"
     ]
    }
   ],
   "source": [
    "from keras.layers import Bidirectional\n",
    "from keras.layers import Activation\n",
    "\n",
    "def bd_model(input_shape, output_sequence_length, english_vocab_size, french_vocab_size):\n",
    "    \"\"\"\n",
    "    Build and train a bidirectional RNN model on x and y\n",
    "    :param input_shape: Tuple of input shape\n",
    "    :param output_sequence_length: Length of output sequence\n",
    "    :param english_vocab_size: Number of unique English words in the dataset\n",
    "    :param french_vocab_size: Number of unique French words in the dataset\n",
    "    :return: Keras model built, but not trained\n",
    "    \"\"\"\n",
    "    # TODO: Implement\n",
    "    model = Sequential()\n",
    "    model.add(Bidirectional(SimpleRNN(100, return_sequences=True), input_shape=(input_shape[1:])))\n",
    "    model.add(TimeDistributed(Dense(french_vocab_size)))\n",
    "    model.add(Activation(\"softmax\"))\n",
    "    \n",
    "    model.summary()\n",
    "    \n",
    "    learning_rate = 1e-3\n",
    "    model.compile(loss=sparse_categorical_crossentropy,\n",
    "                  optimizer=Adam(learning_rate),\n",
    "                  metrics=['accuracy'])\n",
    "    return model\n",
    "\n",
    "tests.test_bd_model(bd_model)"
   ]
  },
  {
   "cell_type": "code",
   "execution_count": 64,
   "metadata": {},
   "outputs": [
    {
     "name": "stdout",
     "output_type": "stream",
     "text": [
      "_________________________________________________________________\n",
      "Layer (type)                 Output Shape              Param #   \n",
      "=================================================================\n",
      "bidirectional_29 (Bidirectio (None, 21, 200)           20400     \n",
      "_________________________________________________________________\n",
      "time_distributed_23 (TimeDis (None, 21, 345)           69345     \n",
      "_________________________________________________________________\n",
      "activation_27 (Activation)   (None, 21, 345)           0         \n",
      "=================================================================\n",
      "Total params: 89,745\n",
      "Trainable params: 89,745\n",
      "Non-trainable params: 0\n",
      "_________________________________________________________________\n",
      "Train on 110288 samples, validate on 27573 samples\n",
      "Epoch 1/10\n",
      "110288/110288 [==============================] - 3s - loss: 2.6806 - acc: 0.4933 - val_loss: nan - val_acc: 0.5708\n",
      "Epoch 2/10\n",
      "110288/110288 [==============================] - 2s - loss: 1.7368 - acc: 0.5921 - val_loss: nan - val_acc: 0.6072\n",
      "Epoch 3/10\n",
      "110288/110288 [==============================] - 2s - loss: 1.5161 - acc: 0.6175 - val_loss: nan - val_acc: 0.6249ss: 1.5205 - acc: 0.6\n",
      "Epoch 4/10\n",
      "110288/110288 [==============================] - 2s - loss: 1.4159 - acc: 0.6290 - val_loss: nan - val_acc: 0.6338\n",
      "Epoch 5/10\n",
      "110288/110288 [==============================] - 2s - loss: 1.3458 - acc: 0.6365 - val_loss: nan - val_acc: 0.6421\n",
      "Epoch 6/10\n",
      "110288/110288 [==============================] - 2s - loss: 1.2891 - acc: 0.6467 - val_loss: nan - val_acc: 0.6540\n",
      "Epoch 7/10\n",
      "110288/110288 [==============================] - 2s - loss: 1.2422 - acc: 0.6554 - val_loss: nan - val_acc: 0.6582\n",
      "Epoch 8/10\n",
      "110288/110288 [==============================] - 2s - loss: 1.2030 - acc: 0.6623 - val_loss: nan - val_acc: 0.6655\n",
      "Epoch 9/10\n",
      "110288/110288 [==============================] - 2s - loss: 1.1704 - acc: 0.6673 - val_loss: nan - val_acc: 0.6708\n",
      "Epoch 10/10\n",
      "110288/110288 [==============================] - 2s - loss: 1.1422 - acc: 0.6713 - val_loss: nan - val_acc: 0.6727\n",
      "new jersey est parfois humide en l' et il il est en en <PAD> <PAD> <PAD> <PAD> <PAD> <PAD> <PAD> <PAD>\n"
     ]
    }
   ],
   "source": [
    "# TODO: Train and Print prediction(s)\n",
    "tmp_x = pad(preproc_english_sentences, preproc_french_sentences.shape[1])\n",
    "tmp_x = tmp_x.reshape((-1, preproc_french_sentences.shape[-2], 1))\n",
    "\n",
    "# Train the neural network\n",
    "bd_model = bd_model(\n",
    "    tmp_x.shape,\n",
    "    preproc_french_sentences.shape[1],\n",
    "    len(english_tokenizer.word_index),\n",
    "    len(french_tokenizer.word_index))\n",
    "\n",
    "bd_model.fit(tmp_x, preproc_french_sentences, batch_size=1024, epochs=10, validation_split=0.2)\n",
    "\n",
    "# Print prediction(s)\n",
    "print(logits_to_text(bd_model.predict(tmp_x[:1])[0], french_tokenizer))"
   ]
  },
  {
   "cell_type": "markdown",
   "metadata": {},
   "source": [
    "### Model 4: Encoder-Decoder (OPTIONAL)\n",
    "Time to look at encoder-decoder models.  This model is made up of an encoder and decoder. The encoder creates a matrix representation of the sentence.  The decoder takes this matrix as input and predicts the translation as output.\n",
    "\n",
    "Create an encoder-decoder model in the cell below."
   ]
  },
  {
   "cell_type": "code",
   "execution_count": 67,
   "metadata": {},
   "outputs": [
    {
     "name": "stdout",
     "output_type": "stream",
     "text": [
      "_________________________________________________________________\n",
      "Layer (type)                 Output Shape              Param #   \n",
      "=================================================================\n",
      "simple_rnn_39 (SimpleRNN)    (None, 100)               10200     \n",
      "_________________________________________________________________\n",
      "repeat_vector_18 (RepeatVect (None, 21, 100)           0         \n",
      "_________________________________________________________________\n",
      "simple_rnn_40 (SimpleRNN)    (None, 21, 100)           20100     \n",
      "_________________________________________________________________\n",
      "time_distributed_26 (TimeDis (None, 21, 344)           34744     \n",
      "_________________________________________________________________\n",
      "activation_30 (Activation)   (None, 21, 344)           0         \n",
      "=================================================================\n",
      "Total params: 65,044\n",
      "Trainable params: 65,044\n",
      "Non-trainable params: 0\n",
      "_________________________________________________________________\n"
     ]
    }
   ],
   "source": [
    "from keras.layers import RepeatVector\n",
    "from keras.layers.core import Reshape\n",
    "from keras.layers import Activation\n",
    "\n",
    "def encdec_model(input_shape, output_sequence_length, english_vocab_size, french_vocab_size):\n",
    "    \"\"\"\n",
    "    Build and train an encoder-decoder model on x and y\n",
    "    :param input_shape: Tuple of input shape\n",
    "    :param output_sequence_length: Length of output sequence\n",
    "    :param english_vocab_size: Number of unique English words in the dataset\n",
    "    :param french_vocab_size: Number of unique French words in the dataset\n",
    "    :return: Keras model built, but not trained\n",
    "    \"\"\"\n",
    "    # N, W, H, Ve = batch size, seq len, hidden size, eng vocab_size\n",
    "    N, W, _ = input_shape\n",
    "    eng_size, fr_size = english_vocab_size, french_vocab_size\n",
    "    embed_dim = 500\n",
    "\n",
    "    # Encoder\n",
    "    model = Sequential()\n",
    "    model.add(SimpleRNN(100, input_shape=(W, 1)))\n",
    "    \n",
    "    # Feed encoder's last output into decoder input repeatedly\n",
    "    model.add(RepeatVector(output_sequence_length))\n",
    "    \n",
    "    # Decoder\n",
    "    # New RNN takes multiple input from encoders, and retain them all with return_sequence\n",
    "    model.add(SimpleRNN(100, return_sequences=True))\n",
    "    model.add(TimeDistributed(Dense(fr_size)))\n",
    "    model.add(Activation(\"softmax\"))\n",
    "\n",
    "    model.summary()\n",
    "     \n",
    "    learning_rate = 1e-3\n",
    "    model.compile(loss=sparse_categorical_crossentropy,\n",
    "                  optimizer=Adam(learning_rate),\n",
    "                  metrics=['accuracy'])\n",
    "    return model\n",
    "\n",
    "tests.test_encdec_model(encdec_model)\n",
    "# OPTIONAL: Train and Print prediction(s)"
   ]
  },
  {
   "cell_type": "code",
   "execution_count": 68,
   "metadata": {},
   "outputs": [
    {
     "name": "stdout",
     "output_type": "stream",
     "text": [
      "_________________________________________________________________\n",
      "Layer (type)                 Output Shape              Param #   \n",
      "=================================================================\n",
      "simple_rnn_41 (SimpleRNN)    (None, 100)               10200     \n",
      "_________________________________________________________________\n",
      "repeat_vector_19 (RepeatVect (None, 21, 100)           0         \n",
      "_________________________________________________________________\n",
      "simple_rnn_42 (SimpleRNN)    (None, 21, 100)           20100     \n",
      "_________________________________________________________________\n",
      "time_distributed_27 (TimeDis (None, 21, 345)           34845     \n",
      "_________________________________________________________________\n",
      "activation_31 (Activation)   (None, 21, 345)           0         \n",
      "=================================================================\n",
      "Total params: 65,145\n",
      "Trainable params: 65,145\n",
      "Non-trainable params: 0\n",
      "_________________________________________________________________\n",
      "Train on 110288 samples, validate on 27573 samples\n",
      "Epoch 1/10\n",
      "110288/110288 [==============================] - 3s - loss: 3.2009 - acc: 0.4109 - val_loss: nan - val_acc: 0.4716\n",
      "Epoch 2/10\n",
      "110288/110288 [==============================] - 2s - loss: 2.1702 - acc: 0.4899 - val_loss: nan - val_acc: 0.5004\n",
      "Epoch 3/10\n",
      "110288/110288 [==============================] - 2s - loss: 1.8983 - acc: 0.5333 - val_loss: nan - val_acc: 0.5553\n",
      "Epoch 4/10\n",
      "110288/110288 [==============================] - 2s - loss: 1.6988 - acc: 0.5670 - val_loss: nan - val_acc: 0.5727\n",
      "Epoch 5/10\n",
      "110288/110288 [==============================] - 2s - loss: 1.5876 - acc: 0.5756 - val_loss: nan - val_acc: 0.5837\n",
      "Epoch 6/10\n",
      "110288/110288 [==============================] - 2s - loss: 1.5092 - acc: 0.5899 - val_loss: nan - val_acc: 0.5997\n",
      "Epoch 7/10\n",
      "110288/110288 [==============================] - 2s - loss: 1.4481 - acc: 0.6041 - val_loss: nan - val_acc: 0.6081\n",
      "Epoch 8/10\n",
      "110288/110288 [==============================] - 2s - loss: 1.4068 - acc: 0.6100 - val_loss: nan - val_acc: 0.6117\n",
      "Epoch 9/10\n",
      "110288/110288 [==============================] - 2s - loss: 1.3758 - acc: 0.6179 - val_loss: nan - val_acc: 0.6231\n",
      "Epoch 10/10\n",
      "110288/110288 [==============================] - 2s - loss: 1.3447 - acc: 0.6257 - val_loss: nan - val_acc: 0.6279\n",
      "new jersey est gã©nã©ralement agrã©able en mois et il est il en en <PAD> <PAD> <PAD> <PAD> <PAD> <PAD> <PAD> <PAD>\n"
     ]
    }
   ],
   "source": [
    "# TODO: Train and Print prediction(s)\n",
    "\n",
    "# no longer need padding, since seq_len of encoder and decoder can be different\n",
    "tmp_x = preproc_english_sentences\n",
    "tmp_x = tmp_x.reshape((-1, tmp_x.shape[1], 1))\n",
    "\n",
    "# Train the neural network\n",
    "encdec_model = encdec_model(\n",
    "    tmp_x.shape,\n",
    "    preproc_french_sentences.shape[1],\n",
    "    len(english_tokenizer.word_index),\n",
    "    len(french_tokenizer.word_index))\n",
    "\n",
    "encdec_model.fit(tmp_x, preproc_french_sentences, batch_size=1024, epochs=10, validation_split=0.2)\n",
    "\n",
    "# Print prediction(s)\n",
    "print(logits_to_text(encdec_model.predict(tmp_x[:1])[0], french_tokenizer))"
   ]
  },
  {
   "cell_type": "markdown",
   "metadata": {},
   "source": [
    "### Model 5: Custom (IMPLEMENTATION)\n",
    "Use everything you learned from the previous models to create a model that incorporates embedding and a bidirectional rnn into one model."
   ]
  },
  {
   "cell_type": "code",
   "execution_count": 87,
   "metadata": {},
   "outputs": [
    {
     "name": "stdout",
     "output_type": "stream",
     "text": [
      "_________________________________________________________________\n",
      "Layer (type)                 Output Shape              Param #   \n",
      "=================================================================\n",
      "embedding_34 (Embedding)     (None, 15, 500)           99500     \n",
      "_________________________________________________________________\n",
      "bidirectional_62 (Bidirectio (None, 1024)              4149248   \n",
      "_________________________________________________________________\n",
      "repeat_vector_34 (RepeatVect (None, 21, 1024)          0         \n",
      "_________________________________________________________________\n",
      "bidirectional_63 (Bidirectio (None, 21, 1024)          6295552   \n",
      "_________________________________________________________________\n",
      "time_distributed_42 (TimeDis (None, 21, 344)           352600    \n",
      "_________________________________________________________________\n",
      "activation_46 (Activation)   (None, 21, 344)           0         \n",
      "=================================================================\n",
      "Total params: 10,896,900\n",
      "Trainable params: 10,896,900\n",
      "Non-trainable params: 0\n",
      "_________________________________________________________________\n",
      "Final Model Loaded\n"
     ]
    }
   ],
   "source": [
    "from keras.layers import LSTM\n",
    "\n",
    "def model_final(input_shape, output_sequence_length, english_vocab_size, french_vocab_size):\n",
    "    \"\"\"\n",
    "    Build and train a model that incorporates embedding, encoder-decoder, and bidirectional RNN on x and y\n",
    "    :param input_shape: Tuple of input shape\n",
    "    :param output_sequence_length: Length of output sequence\n",
    "    :param english_vocab_size: Number of unique English words in the dataset\n",
    "    :param french_vocab_size: Number of unique French words in the dataset\n",
    "    :return: Keras model built, but not trained\n",
    "    \"\"\"\n",
    "    N, W = input_shape\n",
    "    eng_size, fr_size = english_vocab_size, french_vocab_size\n",
    "    embed_size = 100\n",
    "    n_layers = 1\n",
    "    dropout=0.2\n",
    "        \n",
    "    model = Sequential()\n",
    "    model.add(Embedding(input_dim=english_vocab_size, output_dim=500, input_shape=input_shape[1:]))\n",
    "    model.add(Bidirectional(LSTM(512, recurrent_dropout=dropout)))\n",
    "    model.add(RepeatVector(output_sequence_length))\n",
    "    model.add(Bidirectional(LSTM(512, recurrent_dropout=dropout, return_sequences=True)))\n",
    "    model.add(TimeDistributed(Dense(fr_size)))\n",
    "    model.add(Activation(\"softmax\"))\n",
    "    \n",
    "    model.summary()\n",
    "     \n",
    "    learning_rate = 1e-3\n",
    "    model.compile(loss=sparse_categorical_crossentropy,\n",
    "                  optimizer=Adam(learning_rate),\n",
    "                  metrics=['accuracy'])\n",
    "    return model\n",
    "\n",
    "tests.test_model_final(model_final)\n",
    "print('Final Model Loaded')"
   ]
  },
  {
   "cell_type": "markdown",
   "metadata": {},
   "source": [
    "## Prediction (IMPLEMENTATION)"
   ]
  },
  {
   "cell_type": "code",
   "execution_count": 102,
   "metadata": {
    "scrolled": true
   },
   "outputs": [
    {
     "name": "stdout",
     "output_type": "stream",
     "text": [
      "_________________________________________________________________\n",
      "Layer (type)                 Output Shape              Param #   \n",
      "=================================================================\n",
      "embedding_36 (Embedding)     (None, 15, 500)           99500     \n",
      "_________________________________________________________________\n",
      "bidirectional_66 (Bidirectio (None, 1024)              4149248   \n",
      "_________________________________________________________________\n",
      "repeat_vector_36 (RepeatVect (None, 21, 1024)          0         \n",
      "_________________________________________________________________\n",
      "bidirectional_67 (Bidirectio (None, 21, 1024)          6295552   \n",
      "_________________________________________________________________\n",
      "time_distributed_44 (TimeDis (None, 21, 345)           353625    \n",
      "_________________________________________________________________\n",
      "activation_48 (Activation)   (None, 21, 345)           0         \n",
      "=================================================================\n",
      "Total params: 10,897,925\n",
      "Trainable params: 10,897,925\n",
      "Non-trainable params: 0\n",
      "_________________________________________________________________\n",
      "Train on 110288 samples, validate on 27573 samples\n",
      "Epoch 1/20\n",
      "110288/110288 [==============================] - 42s - loss: 2.3302 - acc: 0.5023 - val_loss: nan - val_acc: 0.5907\n",
      "Epoch 2/20\n",
      "110288/110288 [==============================] - 37s - loss: 1.3668 - acc: 0.6330 - val_loss: nan - val_acc: 0.6952\n",
      "Epoch 3/20\n",
      "110288/110288 [==============================] - 37s - loss: 1.0022 - acc: 0.7205 - val_loss: nan - val_acc: 0.7567\n",
      "Epoch 4/20\n",
      "110288/110288 [==============================] - 37s - loss: 0.7535 - acc: 0.7774 - val_loss: nan - val_acc: 0.8175\n",
      "Epoch 5/20\n",
      "110288/110288 [==============================] - 37s - loss: 0.5367 - acc: 0.8398 - val_loss: nan - val_acc: 0.8826\n",
      "Epoch 6/20\n",
      "110288/110288 [==============================] - 37s - loss: 0.3645 - acc: 0.8939 - val_loss: nan - val_acc: 0.9222\n",
      "Epoch 7/20\n",
      "110288/110288 [==============================] - 37s - loss: 0.2620 - acc: 0.9235 - val_loss: nan - val_acc: 0.9393\n",
      "Epoch 8/20\n",
      "110288/110288 [==============================] - 37s - loss: 0.2065 - acc: 0.9392 - val_loss: nan - val_acc: 0.9522\n",
      "Epoch 9/20\n",
      "110288/110288 [==============================] - 37s - loss: 0.1654 - acc: 0.9513 - val_loss: nan - val_acc: 0.9591\n",
      "Epoch 10/20\n",
      "110288/110288 [==============================] - 37s - loss: 0.1398 - acc: 0.9583 - val_loss: nan - val_acc: 0.9610\n",
      "Epoch 11/20\n",
      "110288/110288 [==============================] - 37s - loss: 0.1236 - acc: 0.9628 - val_loss: nan - val_acc: 0.9674\n",
      "Epoch 12/20\n",
      "110288/110288 [==============================] - 37s - loss: 0.1060 - acc: 0.9682 - val_loss: nan - val_acc: 0.9682\n",
      "Epoch 13/20\n",
      "110288/110288 [==============================] - 37s - loss: 0.0928 - acc: 0.9720 - val_loss: nan - val_acc: 0.9729\n",
      "Epoch 14/20\n",
      "110288/110288 [==============================] - 37s - loss: 0.0880 - acc: 0.9736 - val_loss: nan - val_acc: 0.9751\n",
      "Epoch 15/20\n",
      "110288/110288 [==============================] - 37s - loss: 0.0761 - acc: 0.9771 - val_loss: nan - val_acc: 0.9766\n",
      "Epoch 16/20\n",
      "110288/110288 [==============================] - 37s - loss: 0.0697 - acc: 0.9791 - val_loss: nan - val_acc: 0.9793\n",
      "Epoch 17/20\n",
      "110288/110288 [==============================] - 37s - loss: 0.0604 - acc: 0.9820 - val_loss: nan - val_acc: 0.9797\n",
      "Epoch 18/20\n",
      "110288/110288 [==============================] - 37s - loss: 0.0544 - acc: 0.9837 - val_loss: nan - val_acc: 0.9792\n",
      "Epoch 19/20\n",
      "110288/110288 [==============================] - 37s - loss: 0.0544 - acc: 0.9836 - val_loss: nan - val_acc: 0.9792\n",
      "Epoch 20/20\n",
      "110288/110288 [==============================] - 38s - loss: 0.0471 - acc: 0.9859 - val_loss: nan - val_acc: 0.9826\n",
      "Sample 1:\n",
      "il a vu un vieux camion jaune <PAD> <PAD> <PAD> <PAD> <PAD> <PAD> <PAD> <PAD> <PAD> <PAD> <PAD> <PAD> <PAD> <PAD>\n",
      "Il a vu un vieux camion jaune\n",
      "Sample 2:\n",
      "new jersey est parfois calme pendant l' automne et il est neigeux en avril <PAD> <PAD> <PAD> <PAD> <PAD> <PAD> <PAD>\n",
      "new jersey est parfois calme pendant l' automne et il est neigeux en avril <PAD> <PAD> <PAD> <PAD> <PAD> <PAD> <PAD>\n"
     ]
    }
   ],
   "source": [
    "import numpy as np\n",
    "from keras.preprocessing.sequence import pad_sequences\n",
    "\n",
    "def final_predictions(x, y, x_tk, y_tk):\n",
    "    \"\"\"\n",
    "    Gets predictions using the final model\n",
    "    :param x: Preprocessed English data\n",
    "    :param y: Preprocessed French data\n",
    "    :param x_tk: English tokenizer\n",
    "    :param y_tk: French tokenizer\n",
    "    \"\"\"\n",
    "    # TODO: Train neural network using model_final\n",
    " \n",
    "    model = model_final(x.shape,\n",
    "                        y.shape[1],\n",
    "                        len(x_tk.word_index),\n",
    "                        len(y_tk.word_index))\n",
    "    model.fit(x, y, batch_size=1024, epochs=20, validation_split=0.2)\n",
    "    \n",
    "    ## DON'T EDIT ANYTHING BELOW THIS LINE\n",
    "    y_id_to_word = {value: key for key, value in y_tk.word_index.items()}\n",
    "    y_id_to_word[0] = '<PAD>'\n",
    "\n",
    "    sentence = 'he saw a old yellow truck'\n",
    "    sentence = [x_tk.word_index[word] for word in sentence.split()]\n",
    "    sentence = pad_sequences([sentence], maxlen=x.shape[-1], padding='post')\n",
    "    sentences = np.array([sentence[0], x[0]])\n",
    "    predictions = model.predict(sentences, len(sentences))\n",
    "\n",
    "    print('Sample 1:')\n",
    "    print(' '.join([y_id_to_word[np.argmax(x)] for x in predictions[0]]))\n",
    "    print('Il a vu un vieux camion jaune')\n",
    "    print('Sample 2:')\n",
    "    print(' '.join([y_id_to_word[np.argmax(x)] for x in predictions[1]]))\n",
    "    print(' '.join([y_id_to_word[max(x)] for x in y[0]]))     #error with test code, changed np.argmax to max\n",
    "\n",
    "\n",
    "final_predictions(preproc_english_sentences, preproc_french_sentences, english_tokenizer, french_tokenizer)"
   ]
  },
  {
   "cell_type": "markdown",
   "metadata": {},
   "source": [
    "## Submission\n",
    "When you are ready to submit your project, do the following steps:\n",
    "1. Ensure you pass all points on the [rubric](https://review.udacity.com/#!/rubrics/1004/view).\n",
    "2. Submit the following in a zip file.\n",
    "  - `helper.py`\n",
    "  - `machine_translation.ipynb`\n",
    "  - `machine_translation.html`\n",
    "    - You can export the notebook by navigating to **File -> Download as -> HTML (.html)**."
   ]
  }
 ],
 "metadata": {
  "kernelspec": {
   "display_name": "Python 3",
   "language": "python",
   "name": "python3"
  },
  "language_info": {
   "codemirror_mode": {
    "name": "ipython",
    "version": 3
   },
   "file_extension": ".py",
   "mimetype": "text/x-python",
   "name": "python",
   "nbconvert_exporter": "python",
   "pygments_lexer": "ipython3",
   "version": "3.5.3"
  }
 },
 "nbformat": 4,
 "nbformat_minor": 1
}
